{
 "cells": [
  {
   "cell_type": "code",
   "execution_count": null,
   "id": "612e7816",
   "metadata": {},
   "outputs": [],
   "source": [
    "## BERT 情感分析微调 (Unsloth 框架 + Yelp 数据集)"
   ]
  },
  {
   "cell_type": "code",
   "execution_count": 2,
   "id": "f6d797fd",
   "metadata": {},
   "outputs": [
    {
     "name": "stdout",
     "output_type": "stream",
     "text": [
      "Defaulting to user installation because normal site-packages is not writeable\n"
     ]
    },
    {
     "name": "stdout",
     "output_type": "stream",
     "text": [
      "Requirement already satisfied: unsloth in /home/workspace/.local/lib/python3.10/site-packages (2025.7.4)\n",
      "Requirement already satisfied: datasets in /home/workspace/.local/lib/python3.10/site-packages (3.6.0)\n",
      "Requirement already satisfied: bitsandbytes in /home/workspace/.local/lib/python3.10/site-packages (0.46.1)\n",
      "Requirement already satisfied: accelerate in /home/workspace/.local/lib/python3.10/site-packages (1.9.0)\n",
      "Requirement already satisfied: peft in /home/workspace/.local/lib/python3.10/site-packages (0.16.0)\n",
      "Requirement already satisfied: tqdm in /home/workspace/.local/lib/python3.10/site-packages (from unsloth) (4.67.1)\n",
      "Requirement already satisfied: wheel>=0.42.0 in /home/workspace/.local/lib/python3.10/site-packages (from unsloth) (0.45.1)\n",
      "Requirement already satisfied: xformers>=0.0.27.post2 in /home/workspace/.local/lib/python3.10/site-packages (from unsloth) (0.0.31.post1)\n",
      "Requirement already satisfied: transformers!=4.47.0,!=4.52.0,!=4.52.1,!=4.52.2,!=4.52.3,!=4.53.0,>=4.51.3 in /home/workspace/.local/lib/python3.10/site-packages (from unsloth) (4.53.2)\n",
      "Requirement already satisfied: torchvision in /home/workspace/.local/lib/python3.10/site-packages (from unsloth) (0.22.1)\n",
      "Requirement already satisfied: psutil in /home/workspace/.local/lib/python3.10/site-packages (from unsloth) (7.0.0)\n",
      "Requirement already satisfied: hf_transfer in /home/workspace/.local/lib/python3.10/site-packages (from unsloth) (0.1.9)\n",
      "Requirement already satisfied: packaging in /home/workspace/.local/lib/python3.10/site-packages (from unsloth) (25.0)\n",
      "Requirement already satisfied: protobuf in /home/workspace/.local/lib/python3.10/site-packages (from unsloth) (6.31.1)\n",
      "Requirement already satisfied: huggingface_hub in /home/workspace/.local/lib/python3.10/site-packages (from unsloth) (0.33.4)\n",
      "Requirement already satisfied: sentencepiece>=0.2.0 in /home/workspace/.local/lib/python3.10/site-packages (from unsloth) (0.2.0)\n",
      "Requirement already satisfied: diffusers in /home/workspace/.local/lib/python3.10/site-packages (from unsloth) (0.34.0)\n",
      "Requirement already satisfied: unsloth_zoo>=2025.7.5 in /home/workspace/.local/lib/python3.10/site-packages (from unsloth) (2025.7.6)\n",
      "Requirement already satisfied: tyro in /home/workspace/.local/lib/python3.10/site-packages (from unsloth) (0.9.26)\n",
      "Requirement already satisfied: trl!=0.15.0,!=0.19.0,!=0.9.0,!=0.9.1,!=0.9.2,!=0.9.3,>=0.7.9 in /home/workspace/.local/lib/python3.10/site-packages (from unsloth) (0.19.1)\n",
      "Requirement already satisfied: numpy in /home/workspace/.local/lib/python3.10/site-packages (from unsloth) (2.2.6)\n",
      "Requirement already satisfied: torch>=2.4.0 in /home/workspace/.local/lib/python3.10/site-packages (from unsloth) (2.7.1)\n",
      "Requirement already satisfied: triton>=3.0.0 in /home/workspace/.local/lib/python3.10/site-packages (from unsloth) (3.3.1)\n",
      "Requirement already satisfied: pyyaml>=5.1 in /home/workspace/.local/lib/python3.10/site-packages (from datasets) (6.0.2)\n",
      "Requirement already satisfied: filelock in /home/workspace/.local/lib/python3.10/site-packages (from datasets) (3.18.0)\n",
      "Requirement already satisfied: pyarrow>=15.0.0 in /home/workspace/.local/lib/python3.10/site-packages (from datasets) (21.0.0)\n",
      "Requirement already satisfied: fsspec[http]<=2025.3.0,>=2023.1.0 in /home/workspace/.local/lib/python3.10/site-packages (from datasets) (2025.3.0)\n",
      "Requirement already satisfied: xxhash in /home/workspace/.local/lib/python3.10/site-packages (from datasets) (3.5.0)\n",
      "Requirement already satisfied: pandas in /home/workspace/.local/lib/python3.10/site-packages (from datasets) (2.3.1)\n",
      "Requirement already satisfied: dill<0.3.9,>=0.3.0 in /home/workspace/.local/lib/python3.10/site-packages (from datasets) (0.3.8)\n",
      "Requirement already satisfied: multiprocess<0.70.17 in /home/workspace/.local/lib/python3.10/site-packages (from datasets) (0.70.16)\n",
      "Requirement already satisfied: requests>=2.32.2 in /home/workspace/.local/lib/python3.10/site-packages (from datasets) (2.32.4)\n",
      "Requirement already satisfied: safetensors>=0.4.3 in /home/workspace/.local/lib/python3.10/site-packages (from accelerate) (0.5.3)\n",
      "Requirement already satisfied: aiohttp!=4.0.0a0,!=4.0.0a1 in /home/workspace/.local/lib/python3.10/site-packages (from fsspec[http]<=2025.3.0,>=2023.1.0->datasets) (3.12.14)\n",
      "Requirement already satisfied: typing-extensions>=3.7.4.3 in /home/workspace/.local/lib/python3.10/site-packages (from huggingface_hub->unsloth) (4.14.1)\n",
      "Requirement already satisfied: hf-xet<2.0.0,>=1.1.2 in /home/workspace/.local/lib/python3.10/site-packages (from huggingface_hub->unsloth) (1.1.5)\n",
      "Requirement already satisfied: urllib3<3,>=1.21.1 in /home/workspace/.local/lib/python3.10/site-packages (from requests>=2.32.2->datasets) (2.5.0)\n",
      "Requirement already satisfied: idna<4,>=2.5 in /home/workspace/.local/lib/python3.10/site-packages (from requests>=2.32.2->datasets) (3.10)\n",
      "Requirement already satisfied: charset_normalizer<4,>=2 in /home/workspace/.local/lib/python3.10/site-packages (from requests>=2.32.2->datasets) (3.4.2)\n",
      "Requirement already satisfied: certifi>=2017.4.17 in /home/workspace/.local/lib/python3.10/site-packages (from requests>=2.32.2->datasets) (2025.7.14)\n",
      "Requirement already satisfied: nvidia-cufft-cu12==11.3.0.4 in /home/workspace/.local/lib/python3.10/site-packages (from torch>=2.4.0->unsloth) (11.3.0.4)\n",
      "Requirement already satisfied: nvidia-cusparselt-cu12==0.6.3 in /home/workspace/.local/lib/python3.10/site-packages (from torch>=2.4.0->unsloth) (0.6.3)\n",
      "Requirement already satisfied: nvidia-curand-cu12==10.3.7.77 in /home/workspace/.local/lib/python3.10/site-packages (from torch>=2.4.0->unsloth) (10.3.7.77)\n",
      "Requirement already satisfied: sympy>=1.13.3 in /home/workspace/.local/lib/python3.10/site-packages (from torch>=2.4.0->unsloth) (1.14.0)\n",
      "Requirement already satisfied: networkx in /home/workspace/.local/lib/python3.10/site-packages (from torch>=2.4.0->unsloth) (3.4.2)\n",
      "Requirement already satisfied: jinja2 in /home/workspace/.local/lib/python3.10/site-packages (from torch>=2.4.0->unsloth) (3.1.6)\n",
      "Requirement already satisfied: nvidia-nccl-cu12==2.26.2 in /home/workspace/.local/lib/python3.10/site-packages (from torch>=2.4.0->unsloth) (2.26.2)\n",
      "Requirement already satisfied: nvidia-cusolver-cu12==11.7.1.2 in /home/workspace/.local/lib/python3.10/site-packages (from torch>=2.4.0->unsloth) (11.7.1.2)\n",
      "Requirement already satisfied: nvidia-cuda-runtime-cu12==12.6.77 in /home/workspace/.local/lib/python3.10/site-packages (from torch>=2.4.0->unsloth) (12.6.77)\n",
      "Requirement already satisfied: nvidia-cublas-cu12==12.6.4.1 in /home/workspace/.local/lib/python3.10/site-packages (from torch>=2.4.0->unsloth) (12.6.4.1)\n",
      "Requirement already satisfied: nvidia-nvtx-cu12==12.6.77 in /home/workspace/.local/lib/python3.10/site-packages (from torch>=2.4.0->unsloth) (12.6.77)\n",
      "Requirement already satisfied: nvidia-cufile-cu12==1.11.1.6 in /home/workspace/.local/lib/python3.10/site-packages (from torch>=2.4.0->unsloth) (1.11.1.6)\n",
      "Requirement already satisfied: nvidia-cudnn-cu12==9.5.1.17 in /home/workspace/.local/lib/python3.10/site-packages (from torch>=2.4.0->unsloth) (9.5.1.17)\n",
      "Requirement already satisfied: nvidia-cuda-nvrtc-cu12==12.6.77 in /home/workspace/.local/lib/python3.10/site-packages (from torch>=2.4.0->unsloth) (12.6.77)\n",
      "Requirement already satisfied: nvidia-nvjitlink-cu12==12.6.85 in /home/workspace/.local/lib/python3.10/site-packages (from torch>=2.4.0->unsloth) (12.6.85)\n",
      "Requirement already satisfied: nvidia-cusparse-cu12==12.5.4.2 in /home/workspace/.local/lib/python3.10/site-packages (from torch>=2.4.0->unsloth) (12.5.4.2)\n",
      "Requirement already satisfied: nvidia-cuda-cupti-cu12==12.6.80 in /home/workspace/.local/lib/python3.10/site-packages (from torch>=2.4.0->unsloth) (12.6.80)\n",
      "Requirement already satisfied: setuptools>=40.8.0 in /usr/lib/python3/dist-packages (from triton>=3.0.0->unsloth) (59.6.0)\n",
      "Requirement already satisfied: regex!=2019.12.17 in /home/workspace/.local/lib/python3.10/site-packages (from transformers!=4.47.0,!=4.52.0,!=4.52.1,!=4.52.2,!=4.52.3,!=4.53.0,>=4.51.3->unsloth) (2024.11.6)\n",
      "Requirement already satisfied: tokenizers<0.22,>=0.21 in /home/workspace/.local/lib/python3.10/site-packages (from transformers!=4.47.0,!=4.52.0,!=4.52.1,!=4.52.2,!=4.52.3,!=4.53.0,>=4.51.3->unsloth) (0.21.2)\n",
      "Requirement already satisfied: cut_cross_entropy in /home/workspace/.local/lib/python3.10/site-packages (from unsloth_zoo>=2025.7.5->unsloth) (25.1.1)\n",
      "Requirement already satisfied: pillow in /home/workspace/.local/lib/python3.10/site-packages (from unsloth_zoo>=2025.7.5->unsloth) (11.3.0)\n",
      "Requirement already satisfied: msgspec in /home/workspace/.local/lib/python3.10/site-packages (from unsloth_zoo>=2025.7.5->unsloth) (0.19.0)\n",
      "Requirement already satisfied: importlib_metadata in /home/workspace/.local/lib/python3.10/site-packages (from diffusers->unsloth) (8.7.0)\n",
      "Requirement already satisfied: python-dateutil>=2.8.2 in /home/workspace/.local/lib/python3.10/site-packages (from pandas->datasets) (2.9.0.post0)\n",
      "Requirement already satisfied: tzdata>=2022.7 in /home/workspace/.local/lib/python3.10/site-packages (from pandas->datasets) (2025.2)\n",
      "Requirement already satisfied: pytz>=2020.1 in /home/workspace/.local/lib/python3.10/site-packages (from pandas->datasets) (2025.2)\n",
      "Requirement already satisfied: typeguard>=4.0.0 in /home/workspace/.local/lib/python3.10/site-packages (from tyro->unsloth) (4.4.4)\n",
      "Requirement already satisfied: shtab>=1.5.6 in /home/workspace/.local/lib/python3.10/site-packages (from tyro->unsloth) (1.7.2)\n",
      "Requirement already satisfied: rich>=11.1.0 in /home/workspace/.local/lib/python3.10/site-packages (from tyro->unsloth) (14.0.0)\n",
      "Requirement already satisfied: docstring-parser>=0.15 in /home/workspace/.local/lib/python3.10/site-packages (from tyro->unsloth) (0.16)\n",
      "Requirement already satisfied: propcache>=0.2.0 in /home/workspace/.local/lib/python3.10/site-packages (from aiohttp!=4.0.0a0,!=4.0.0a1->fsspec[http]<=2025.3.0,>=2023.1.0->datasets) (0.3.2)\n",
      "Requirement already satisfied: aiohappyeyeballs>=2.5.0 in /home/workspace/.local/lib/python3.10/site-packages (from aiohttp!=4.0.0a0,!=4.0.0a1->fsspec[http]<=2025.3.0,>=2023.1.0->datasets) (2.6.1)\n",
      "Requirement already satisfied: frozenlist>=1.1.1 in /home/workspace/.local/lib/python3.10/site-packages (from aiohttp!=4.0.0a0,!=4.0.0a1->fsspec[http]<=2025.3.0,>=2023.1.0->datasets) (1.7.0)\n",
      "Requirement already satisfied: multidict<7.0,>=4.5 in /home/workspace/.local/lib/python3.10/site-packages (from aiohttp!=4.0.0a0,!=4.0.0a1->fsspec[http]<=2025.3.0,>=2023.1.0->datasets) (6.6.3)\n",
      "Requirement already satisfied: yarl<2.0,>=1.17.0 in /home/workspace/.local/lib/python3.10/site-packages (from aiohttp!=4.0.0a0,!=4.0.0a1->fsspec[http]<=2025.3.0,>=2023.1.0->datasets) (1.20.1)\n",
      "Requirement already satisfied: async-timeout<6.0,>=4.0 in /home/workspace/.local/lib/python3.10/site-packages (from aiohttp!=4.0.0a0,!=4.0.0a1->fsspec[http]<=2025.3.0,>=2023.1.0->datasets) (5.0.1)\n",
      "Requirement already satisfied: aiosignal>=1.4.0 in /home/workspace/.local/lib/python3.10/site-packages (from aiohttp!=4.0.0a0,!=4.0.0a1->fsspec[http]<=2025.3.0,>=2023.1.0->datasets) (1.4.0)\n",
      "Requirement already satisfied: attrs>=17.3.0 in /home/workspace/.local/lib/python3.10/site-packages (from aiohttp!=4.0.0a0,!=4.0.0a1->fsspec[http]<=2025.3.0,>=2023.1.0->datasets) (25.3.0)\n",
      "Requirement already satisfied: six>=1.5 in /home/workspace/.local/lib/python3.10/site-packages (from python-dateutil>=2.8.2->pandas->datasets) (1.17.0)\n",
      "Requirement already satisfied: markdown-it-py>=2.2.0 in /home/workspace/.local/lib/python3.10/site-packages (from rich>=11.1.0->tyro->unsloth) (3.0.0)\n",
      "Requirement already satisfied: pygments<3.0.0,>=2.13.0 in /home/workspace/.local/lib/python3.10/site-packages (from rich>=11.1.0->tyro->unsloth) (2.19.2)\n",
      "Requirement already satisfied: mpmath<1.4,>=1.1.0 in /home/workspace/.local/lib/python3.10/site-packages (from sympy>=1.13.3->torch>=2.4.0->unsloth) (1.3.0)\n",
      "Requirement already satisfied: zipp>=3.20 in /home/workspace/.local/lib/python3.10/site-packages (from importlib_metadata->diffusers->unsloth) (3.23.0)\n",
      "Requirement already satisfied: MarkupSafe>=2.0 in /home/workspace/.local/lib/python3.10/site-packages (from jinja2->torch>=2.4.0->unsloth) (3.0.2)\n",
      "Requirement already satisfied: mdurl~=0.1 in /home/workspace/.local/lib/python3.10/site-packages (from markdown-it-py>=2.2.0->rich>=11.1.0->tyro->unsloth) (0.1.2)\n"
     ]
    }
   ],
   "source": [
    "# 安装依赖（建议在终端运行）\n",
    "! pip install unsloth datasets bitsandbytes accelerate peft"
   ]
  },
  {
   "cell_type": "code",
   "execution_count": null,
   "id": "2509829e",
   "metadata": {},
   "outputs": [
    {
     "name": "stderr",
     "output_type": "stream",
     "text": [
      "Some weights of BertForSequenceClassification were not initialized from the model checkpoint at bert-base-uncased and are newly initialized: ['classifier.bias', 'classifier.weight']\n",
      "You should probably TRAIN this model on a down-stream task to be able to use it for predictions and inference.\n"
     ]
    }
   ],
   "source": [
    "# 1. 加载 unsloth + bert 模型\n",
    "from transformers import AutoModelForSequenceClassification, AutoTokenizer\n",
    "\n",
    "model = AutoModelForSequenceClassification.from_pretrained(\"bert-base-uncased\", num_labels=2)\n",
    "tokenizer = AutoTokenizer.from_pretrained(\"bert-base-uncased\")"
   ]
  },
  {
   "cell_type": "code",
   "execution_count": null,
   "id": "0265cd5b",
   "metadata": {},
   "outputs": [],
   "source": [
    "# 2. 加载 Amazon US Reviews 数据集 - Electronics 类目 (3C)\n",
    "from datasets import load_dataset\n",
    "\n",
    "dataset = load_dataset(\"amazon_us_reviews\", \"Electronics_v1_00\")  # 3C类目：Electronics\n"
   ]
  },
  {
   "cell_type": "code",
   "execution_count": null,
   "id": "39bb32c6",
   "metadata": {},
   "outputs": [],
   "source": [
    "# 3. 数据预处理：使用 review_body -> text，star_rating -> label (转换为0-4)\n",
    "def preprocess_function(examples):\n",
    "    text = examples[\"review_body\"]\n",
    "    label = int(examples[\"star_rating\"]) - 1\n",
    "    return tokenizer(text, truncation=True, padding=\"max_length\"), {\"labels\": label}\n",
    "\n",
    "encoded_dataset = dataset.map(\n",
    "    lambda x: preprocess_function(x),\n",
    "    remove_columns=dataset[\"train\"].column_names\n",
    ")\n",
    "\n",
    "encoded_dataset.set_format(\"torch\")"
   ]
  },
  {
   "cell_type": "code",
   "execution_count": null,
   "id": "730388ad",
   "metadata": {},
   "outputs": [],
   "source": [
    "# 4. 定义训练参数\n",
    "from transformers import TrainingArguments, Trainer\n",
    "\n",
    "training_args = TrainingArguments(\n",
    "    output_dir=\"./bert_sentiment_amazon_3c\",\n",
    "    evaluation_strategy=\"epoch\",\n",
    "    save_strategy=\"epoch\",\n",
    "    learning_rate=2e-5,\n",
    "    per_device_train_batch_size=16,\n",
    "    per_device_eval_batch_size=32,\n",
    "    num_train_epochs=3,\n",
    "    weight_decay=0.01,\n",
    "    logging_dir=\"./logs\",\n",
    "    logging_steps=20,\n",
    "    save_total_limit=2,\n",
    ")\n",
    "\n",
    "trainer = Trainer(\n",
    "    model=model,\n",
    "    args=training_args,\n",
    "    train_dataset=encoded_dataset[\"train\"],\n",
    "    eval_dataset=encoded_dataset[\"test\"],\n",
    ")"
   ]
  },
  {
   "cell_type": "code",
   "execution_count": null,
   "id": "5006739a",
   "metadata": {},
   "outputs": [],
   "source": [
    "# 5. 开始训练\n",
    "trainer.train()"
   ]
  },
  {
   "cell_type": "code",
   "execution_count": null,
   "id": "51a8f8f6",
   "metadata": {},
   "outputs": [],
   "source": [
    "# 6. 保存模型\n",
    "model.save_pretrained(\"./bert_sentiment_model_3c\")\n",
    "tokenizer.save_pretrained(\"./bert_sentiment_model_3c\")\n",
    "\n",
    "print(\"训练完成，3C类目模型已保存！\")"
   ]
  }
 ],
 "metadata": {
  "kernelspec": {
   "display_name": "Python 3",
   "language": "python",
   "name": "python3"
  },
  "language_info": {
   "codemirror_mode": {
    "name": "ipython",
    "version": 3
   },
   "file_extension": ".py",
   "mimetype": "text/x-python",
   "name": "python",
   "nbconvert_exporter": "python",
   "pygments_lexer": "ipython3",
   "version": "3.10.12"
  }
 },
 "nbformat": 4,
 "nbformat_minor": 5
}
